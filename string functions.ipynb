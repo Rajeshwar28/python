{
 "cells": [
  {
   "cell_type": "code",
   "execution_count": 12,
   "metadata": {},
   "outputs": [
    {
     "name": "stdout",
     "output_type": "stream",
     "text": [
      "('python', 'programming', 2000, 156, 'easy')\n",
      "s[0]= python\n",
      "s[1:-1]= ('programming', 2000, 156)\n"
     ]
    }
   ],
   "source": [
    "s=(\"python\",\"programming\",2000,156,\"easy\")\n",
    "print(s)\n",
    "print(\"s[0]=\", s[0])\n",
    "print(\"s[1:-1]=\",s[1:-1])"
   ]
  },
  {
   "cell_type": "code",
   "execution_count": 13,
   "metadata": {},
   "outputs": [
    {
     "name": "stdout",
     "output_type": "stream",
     "text": [
      "('programming', 'easy', '145', '256')\n"
     ]
    }
   ],
   "source": [
    "s= (\"programming\",\"easy\")\n",
    "s1=(\"145\",\"256\")\n",
    "print(s+s1)"
   ]
  },
  {
   "cell_type": "code",
   "execution_count": 18,
   "metadata": {},
   "outputs": [
    {
     "name": "stdout",
     "output_type": "stream",
     "text": [
      "6\n",
      "r\n"
     ]
    }
   ],
   "source": [
    "t1=(\"1\",\"2\",\"r\",\"f\",\"5\",\"6\")\n",
    "print(len(t1))\n",
    "print(max(t1))"
   ]
  },
  {
   "cell_type": "code",
   "execution_count": 21,
   "metadata": {},
   "outputs": [
    {
     "name": "stdout",
     "output_type": "stream",
     "text": [
      "f\n",
      "1\n"
     ]
    }
   ],
   "source": [
    "t1=(\"1\",\"2\",\"3\",\"4\",\"5\",\"f\")\n",
    "print(max(t1))\n",
    "print(min(t1))"
   ]
  },
  {
   "cell_type": "code",
   "execution_count": 23,
   "metadata": {},
   "outputs": [
    {
     "name": "stdout",
     "output_type": "stream",
     "text": [
      "['1', '2,', '3', '4']\n",
      "('1', '2,', '3', '4')\n"
     ]
    }
   ],
   "source": [
    "list1=['1','2,','3','4']\n",
    "print(list1)\n",
    "tuple1=tuple(list1)\n",
    "print(tuple1)"
   ]
  },
  {
   "cell_type": "code",
   "execution_count": 41,
   "metadata": {},
   "outputs": [
    {
     "ename": "SyntaxError",
     "evalue": "can't delete function call (<ipython-input-41-99961b803dbd>, line 12)",
     "output_type": "error",
     "traceback": [
      "\u001b[1;36m  File \u001b[1;32m\"<ipython-input-41-99961b803dbd>\"\u001b[1;36m, line \u001b[1;32m12\u001b[0m\n\u001b[1;33m    del user1()\u001b[0m\n\u001b[1;37m       ^\u001b[0m\n\u001b[1;31mSyntaxError\u001b[0m\u001b[1;31m:\u001b[0m can't delete function call\n"
     ]
    }
   ],
   "source": [
    "user1={\"name\":\"rajeshwar\",\"age\":\"19\",\"number\":\"630625691\",\"emailid\":\"rajeshwar@gmail.com\"}\n",
    "print(\"user1[name]=\",user1[\"name\"])\n",
    "print(\"user1[emailid]=\",user1[\"emailid\"])\n",
    "print(\"user1[number]=\",user1[\"number\"])\n",
    "print(\"user1[age]=\",user1[\"age\"])\n",
    "user1[\"emailid\"]=\"rajesh@gmail.com\"\n",
    "print(user1[\"emailid\"])\n",
    "user1[\"number\"]=\"123456789\"\n",
    "print(user1[\"number\"])\n",
    "del user1[\"number\"]\n",
    "user1.clear()\n",
    "del user1()"
   ]
  },
  {
   "cell_type": "code",
   "execution_count": 56,
   "metadata": {},
   "outputs": [
    {
     "name": "stdout",
     "output_type": "stream",
     "text": [
      "3\n",
      "4\n",
      "hyderabad\n"
     ]
    },
    {
     "ename": "NameError",
     "evalue": "name 'user1' is not defined",
     "output_type": "error",
     "traceback": [
      "\u001b[1;31m---------------------------------------------------------------------------\u001b[0m",
      "\u001b[1;31mNameError\u001b[0m                                 Traceback (most recent call last)",
      "\u001b[1;32m<ipython-input-56-d17d7d51ea06>\u001b[0m in \u001b[0;36m<module>\u001b[1;34m\u001b[0m\n\u001b[0;32m      7\u001b[0m \u001b[0muser1\u001b[0m\u001b[1;33m.\u001b[0m\u001b[0mclear\u001b[0m\u001b[1;33m(\u001b[0m\u001b[1;33m)\u001b[0m\u001b[1;33m\u001b[0m\u001b[1;33m\u001b[0m\u001b[0m\n\u001b[0;32m      8\u001b[0m \u001b[1;32mdel\u001b[0m \u001b[0muser1\u001b[0m\u001b[1;33m\u001b[0m\u001b[1;33m\u001b[0m\u001b[0m\n\u001b[1;32m----> 9\u001b[1;33m \u001b[0mprint\u001b[0m\u001b[1;33m(\u001b[0m\u001b[0mlen\u001b[0m\u001b[1;33m(\u001b[0m\u001b[0muser1\u001b[0m\u001b[1;33m)\u001b[0m\u001b[1;33m)\u001b[0m\u001b[1;33m\u001b[0m\u001b[1;33m\u001b[0m\u001b[0m\n\u001b[0m",
      "\u001b[1;31mNameError\u001b[0m: name 'user1' is not defined"
     ]
    }
   ],
   "source": [
    "user1={\"name\":\"anil\",\"age\":\"25\",\"emailid\":\"anil@gmail.com\"}\n",
    "print(len(user1))\n",
    "user1[\"address\"]=\"hyderabad\"\n",
    "print(len(user1))\n",
    "print(user1[\"address\"])\n",
    "del user1[\"emailid\"]\n",
    "user1.clear()\n",
    "del user1\n",
    "print(len(user1))\n"
   ]
  },
  {
   "cell_type": "raw",
   "metadata": {},
   "source": []
  },
  {
   "cell_type": "code",
   "execution_count": 53,
   "metadata": {},
   "outputs": [
    {
     "name": "stdout",
     "output_type": "stream",
     "text": [
      "{'name': 'anil', 'age': '25', 'number': '123456789', 'emailid': 'anil@gmail.com'}\n",
      "{'name': 'anil', 'age': '25', 'number': '123456789', 'emailid': 'anil@gmail.com'}\n"
     ]
    }
   ],
   "source": [
    "user1={\"name\":\"anil\",\"age\":\"25\",\"number\":\"123456789\",\"emailid\":\"anil@gmail.com\"}\n",
    "user2=user1.copy()\n",
    "print(user1)\n",
    "print(user2)"
   ]
  },
  {
   "cell_type": "code",
   "execution_count": 69,
   "metadata": {},
   "outputs": [
    {
     "name": "stdout",
     "output_type": "stream",
     "text": [
      "contact anil is added\n",
      "contact akhil is added\n"
     ]
    }
   ],
   "source": [
    "contacts={}\n",
    "def addcontact(name,phone):\n",
    "    if name not in contacts:\n",
    "        contacts[name]=phone;\n",
    "        print(\"contact %s is added\" % name) \n",
    "    else:\n",
    "        print(\"contact %s already exists\" % name)\n",
    "    return       \n",
    "addcontact(\"anil\",123456789) \n",
    "addcontact(\"akhil\",12654365)\n",
    "\n"
   ]
  },
  {
   "cell_type": "code",
   "execution_count": 89,
   "metadata": {},
   "outputs": [
    {
     "name": "stdout",
     "output_type": "stream",
     "text": [
      "anil : 123456789\n",
      "akhil : 12654365\n"
     ]
    }
   ],
   "source": [
    "def searchcontact(name):\n",
    "    if name in contacts:\n",
    "        print(name,\":\",contacts[name]);\n",
    "    else:\n",
    "        print(\"%s does not exists\"%name)\n",
    "    return     \n",
    "searchcontact(\"anil\")\n",
    "searchcontact(\"akhil\")\n",
    "        \n",
    "        "
   ]
  },
  {
   "cell_type": "code",
   "execution_count": 90,
   "metadata": {},
   "outputs": [
    {
     "name": "stdout",
     "output_type": "stream",
     "text": [
      "2 contacts addded successfully\n"
     ]
    }
   ],
   "source": [
    "def importcontacts(newcontacts):\n",
    "    contacts.update(newcontacts)\n",
    "    print(len(newcontacts.keys()),\"contacts addded successfully\")\n",
    "    return\n",
    "newcontacts={\"dinesh\":1254695663,\"ajay\":12458795623}\n",
    "importcontacts(newcontacts)"
   ]
  },
  {
   "cell_type": "code",
   "execution_count": 108,
   "metadata": {},
   "outputs": [
    {
     "name": "stdout",
     "output_type": "stream",
     "text": [
      "anil :contacts does not exist\n"
     ]
    }
   ],
   "source": [
    "contact={}\n",
    "def delcontact(name):\n",
    "    if name in contact:\n",
    "        del contact[name]\n",
    "        print(name,\" : is deletd from contacts\");\n",
    "    else:\n",
    "        print(name,\":contacts does not exist\")\n",
    "    return\n",
    "delcontact(\"anil\")"
   ]
  },
  {
   "cell_type": "code",
   "execution_count": 122,
   "metadata": {},
   "outputs": [
    {
     "name": "stdout",
     "output_type": "stream",
     "text": [
      "dinesh :contacts does not exits\n"
     ]
    }
   ],
   "source": [
    "contacts={}\n",
    "def updatecontact(name,phone):\n",
    "        if name in contacts:\n",
    "            contacts[name]=phone;\n",
    "            print(name,\": update  contacts\")\n",
    "        else:\n",
    "            print(name,\":contacts does not exits\")\n",
    "        return\n",
    "updatecontact(\"dinesh\",124562513)                "
   ]
  },
  {
   "cell_type": "code",
   "execution_count": null,
   "metadata": {},
   "outputs": [],
   "source": []
  }
 ],
 "metadata": {
  "kernelspec": {
   "display_name": "Python 3",
   "language": "python",
   "name": "python3"
  },
  "language_info": {
   "codemirror_mode": {
    "name": "ipython",
    "version": 3
   },
   "file_extension": ".py",
   "mimetype": "text/x-python",
   "name": "python",
   "nbconvert_exporter": "python",
   "pygments_lexer": "ipython3",
   "version": "3.7.3"
  }
 },
 "nbformat": 4,
 "nbformat_minor": 2
}

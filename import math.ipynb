{
 "cells": [
  {
   "cell_type": "code",
   "execution_count": 4,
   "metadata": {},
   "outputs": [
    {
     "name": "stdout",
     "output_type": "stream",
     "text": [
      "the absolute value of a: 5.0\n"
     ]
    }
   ],
   "source": [
    "#returningabsolutevalue\n",
    "import math\n",
    "a=-5;\n",
    "print(\"the absolute value of a:\",end=\" \")\n",
    "print(math.fabs(a))"
   ]
  },
  {
   "cell_type": "code",
   "execution_count": 3,
   "metadata": {},
   "outputs": [
    {
     "name": "stdout",
     "output_type": "stream",
     "text": [
      "the factorial number a:120\n"
     ]
    }
   ],
   "source": [
    "#factorialofnumber\n",
    "import math\n",
    "a=5;\n",
    "print(\"the factorial number a:\",end=\"\")\n",
    "print(math.factorial(a))"
   ]
  },
  {
   "cell_type": "code",
   "execution_count": 5,
   "metadata": {},
   "outputs": [
    {
     "name": "stdout",
     "output_type": "stream",
     "text": [
      "the greater value of integer: 6\n"
     ]
    }
   ],
   "source": [
    "#returningvaluetogreater\n",
    "import math\n",
    "a=5.6\n",
    "print(\"the greater value of integer:\",end=\" \")\n",
    "print(math.ceil(a))"
   ]
  },
  {
   "cell_type": "code",
   "execution_count": 7,
   "metadata": {},
   "outputs": [
    {
     "name": "stdout",
     "output_type": "stream",
     "text": [
      "the smaller value of integer: 1\n"
     ]
    }
   ],
   "source": [
    "#returningsmaalervalue\n",
    "import math\n",
    "a=1.9\n",
    "print(\"the smaller value of integer:\",end=\" \")\n",
    "print(math.floor(a))"
   ]
  },
  {
   "cell_type": "code",
   "execution_count": 8,
   "metadata": {},
   "outputs": [
    {
     "name": "stdout",
     "output_type": "stream",
     "text": [
      "copy sign of a and b:-5.0\n"
     ]
    }
   ],
   "source": [
    "#copysign\n",
    "import math\n",
    "a=5\n",
    "b=-6\n",
    "print(\"copy sign of a and b:\",end=\"\")\n",
    "print(math.copysign(a,b))\n"
   ]
  },
  {
   "cell_type": "code",
   "execution_count": 10,
   "metadata": {},
   "outputs": [
    {
     "name": "stdout",
     "output_type": "stream",
     "text": [
      "gcd of and is:10\n"
     ]
    }
   ],
   "source": [
    "#gcdofnumber\n",
    "import math\n",
    "a=10\n",
    "b=20\n",
    "print(\"gcd of and is:\",end=\"\")\n",
    "print(math.gcd(a,b))"
   ]
  },
  {
   "cell_type": "code",
   "execution_count": null,
   "metadata": {},
   "outputs": [],
   "source": []
  }
 ],
 "metadata": {
  "kernelspec": {
   "display_name": "Python 3",
   "language": "python",
   "name": "python3"
  },
  "language_info": {
   "codemirror_mode": {
    "name": "ipython",
    "version": 3
   },
   "file_extension": ".py",
   "mimetype": "text/x-python",
   "name": "python",
   "nbconvert_exporter": "python",
   "pygments_lexer": "ipython3",
   "version": "3.7.3"
  }
 },
 "nbformat": 4,
 "nbformat_minor": 2
}

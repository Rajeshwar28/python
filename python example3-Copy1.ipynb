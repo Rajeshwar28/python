{
 "cells": [
  {
   "cell_type": "code",
   "execution_count": 26,
   "metadata": {},
   "outputs": [
    {
     "name": "stdout",
     "output_type": "stream",
     "text": [
      "1 2 3 4 5 \n",
      "[1, 2]\n",
      "[2, 3, 4]\n",
      "[1, 2, 3]\n"
     ]
    }
   ],
   "source": [
    "list1=[1,2,3,4,5];\n",
    "for x in list1:\n",
    "    print(x,end=\" \");\n",
    "    \n",
    "print();\n",
    "print(list1[0:2]);\n",
    "print(list1[1:-1]);\n",
    "print(list1[:-2]);"
   ]
  },
  {
   "cell_type": "code",
   "execution_count": 25,
   "metadata": {},
   "outputs": [
    {
     "ename": "IndentationError",
     "evalue": "expected an indented block (<ipython-input-25-48ec7029d9d9>, line 5)",
     "output_type": "error",
     "traceback": [
      "\u001b[1;36m  File \u001b[1;32m\"<ipython-input-25-48ec7029d9d9>\"\u001b[1;36m, line \u001b[1;32m5\u001b[0m\n\u001b[1;33m    print(i);\u001b[0m\n\u001b[1;37m        ^\u001b[0m\n\u001b[1;31mIndentationError\u001b[0m\u001b[1;31m:\u001b[0m expected an indented block\n"
     ]
    }
   ],
   "source": [
    "def factorsofnumber(n):\n",
    "    i=1;\n",
    "    while(i!=n):\n",
    "        if(n%i==0):\n",
    "        print(i);\n",
    "        i=i+1;\n",
    "        return;\n",
    "        \n",
    "print(factorsofnumber(20));  \n",
    "            \n",
    "            "
   ]
  },
  {
   "cell_type": "code",
   "execution_count": 42,
   "metadata": {},
   "outputs": [
    {
     "name": "stdout",
     "output_type": "stream",
     "text": [
      "['saikumar', 'rajesh', 'vikas']\n",
      "[['sravanth'], 'rajesh', 'vikas']\n",
      "[['sravanth'], 'rajesh']\n"
     ]
    }
   ],
   "source": [
    "list1=[\"saikumar\",\"rajesh\",\"vikas\"];\n",
    "print(list1);\n",
    "list1[0]=[\"sravanth\"];\n",
    "print(list1);\n",
    "del list1[2];\n",
    "print(list1);"
   ]
  },
  {
   "cell_type": "code",
   "execution_count": 63,
   "metadata": {},
   "outputs": [
    {
     "name": "stdout",
     "output_type": "stream",
     "text": [
      "[1, 2, 3, 4]\n",
      "4\n",
      "[1, 2, 3, 4, 5]\n",
      "[1, 2, 3, 4, 5, 6]\n",
      "[1, 2, 3, 4, 5, 6, 1]\n",
      "2\n",
      "1\n"
     ]
    }
   ],
   "source": [
    "list1=[1,2,3,4];\n",
    "print(list1);\n",
    "print(len(list1));\n",
    "#list1[4]=5;\n",
    "list1.append(5);\n",
    "print(list1);\n",
    "#list1[6]=6;\n",
    "list1.append(6);\n",
    "print(list1);\n",
    "#list1[7]=1;\n",
    "list1.append(1);\n",
    "print(list1);\n",
    "print(list1.count(1));\n",
    "print(list1.count(2));"
   ]
  },
  {
   "cell_type": "code",
   "execution_count": 69,
   "metadata": {},
   "outputs": [
    {
     "name": "stdout",
     "output_type": "stream",
     "text": [
      "['python', 'raptor', 2, 1, 'jupiter']\n",
      "['python', 'raptor', 2, 1, 'jupiter']\n"
     ]
    }
   ],
   "source": [
    "list1=[\"python\",\"raptor\",2,1,\"jupiter\"];\n",
    "print(list1);\n",
    "list1.index(\"raptor\");\n",
    "print(list1);"
   ]
  },
  {
   "cell_type": "code",
   "execution_count": 83,
   "metadata": {},
   "outputs": [
    {
     "name": "stdout",
     "output_type": "stream",
     "text": [
      "['python', 'raptor', 2, 1, 'jupiter']\n",
      "['five', 'python', 'raptor', 2, 1, 'jupiter']\n",
      "1\n",
      "['five', 'python', 2, 1, 'jupiter']\n",
      "['jupiter', 1, 2, 'python', 'five']\n"
     ]
    }
   ],
   "source": [
    "list1=[\"python\",\"raptor\",2,1,\"jupiter\"];\n",
    "print(list1);\n",
    "list1.insert(0,\"five\");\n",
    "print(list1);\n",
    "print(list1.index('python'));\n",
    "list1.remove(\"raptor\");\n",
    "print(list1);\n",
    "list1.reverse();\n",
    "print(list1);\n"
   ]
  },
  {
   "cell_type": "code",
   "execution_count": 108,
   "metadata": {},
   "outputs": [
    {
     "name": "stdout",
     "output_type": "stream",
     "text": [
      "the target item is found\n"
     ]
    }
   ],
   "source": [
    "def linearsearch(a,targetitem):\n",
    "    flag=0;\n",
    "    for i in range(len(a)):\n",
    "        if a[i]==targetitem:\n",
    "            flag=1;\n",
    "            break;\n",
    "    if(flag!=0):\n",
    "        print(\"the target item is found\");\n",
    "    else:\n",
    "        print(\"target is not found\");\n",
    "a=[1,2,3,4,5,6,7,8];    \n",
    "linearsearch(a,5);    \n"
   ]
  },
  {
   "cell_type": "code",
   "execution_count": 3,
   "metadata": {},
   "outputs": [
    {
     "ename": "SyntaxError",
     "evalue": "invalid syntax (<ipython-input-3-f25caa05aa8a>, line 1)",
     "output_type": "error",
     "traceback": [
      "\u001b[1;36m  File \u001b[1;32m\"<ipython-input-3-f25caa05aa8a>\"\u001b[1;36m, line \u001b[1;32m1\u001b[0m\n\u001b[1;33m    def linersearchduplicate(a,targetitem);\u001b[0m\n\u001b[1;37m                                          ^\u001b[0m\n\u001b[1;31mSyntaxError\u001b[0m\u001b[1;31m:\u001b[0m invalid syntax\n"
     ]
    }
   ],
   "source": [
    "def linersearchduplicate(a,targetitem);\n",
    "for i in range(len(a)):\n",
    "        if a[i]==0:\n",
    "            flag=flaf+1;\n",
    "if(flag!=0):\n",
    "    print(\"the target is found\");\n",
    "else:\n",
    "    (\"the target is not found\");\n",
    "a=[1,2,3,4,1,5,,5];\n",
    " linearsearchduplicate(a,1);"
   ]
  },
  {
   "cell_type": "code",
   "execution_count": null,
   "metadata": {},
   "outputs": [],
   "source": []
  }
 ],
 "metadata": {
  "kernelspec": {
   "display_name": "Python 3",
   "language": "python",
   "name": "python3"
  },
  "language_info": {
   "codemirror_mode": {
    "name": "ipython",
    "version": 3
   },
   "file_extension": ".py",
   "mimetype": "text/x-python",
   "name": "python",
   "nbconvert_exporter": "python",
   "pygments_lexer": "ipython3",
   "version": "3.7.3"
  }
 },
 "nbformat": 4,
 "nbformat_minor": 2
}

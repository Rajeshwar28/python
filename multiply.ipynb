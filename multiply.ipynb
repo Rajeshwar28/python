{
 "cells": [
  {
   "cell_type": "code",
   "execution_count": 3,
   "metadata": {},
   "outputs": [
    {
     "name": "stdout",
     "output_type": "stream",
     "text": [
      "0\n",
      "3\n",
      "5\n"
     ]
    }
   ],
   "source": [
    "def linearexample(a,targetitem):\n",
    "    flag=0;\n",
    "    for i in range(len(a)):\n",
    "        if(a[i]==targetitem):\n",
    "            flag=i;\n",
    "            print(flag);\n",
    "    \n",
    "a=[1,2,3,1,2,1,2,3];\n",
    "linearexample(a,1);\n"
   ]
  },
  {
   "cell_type": "code",
   "execution_count": 10,
   "metadata": {},
   "outputs": [
    {
     "name": "stdout",
     "output_type": "stream",
     "text": [
      "2\n"
     ]
    }
   ],
   "source": [
    "def linearduplicate(a,targetitem):\n",
    "    flag=0;\n",
    "    for i in  range(len(a)):\n",
    "        if(a[i]==targetitem):\n",
    "            flag=flag+1;\n",
    "    print(flag);\n",
    "a=[1,2,3,1,2,3,2,3];\n",
    "linearduplicate(a,1);\n"
   ]
  },
  {
   "cell_type": "code",
   "execution_count": 14,
   "metadata": {},
   "outputs": [
    {
     "name": "stdout",
     "output_type": "stream",
     "text": [
      "! ! ! ! ! "
     ]
    }
   ],
   "source": [
    "def linearexample(a,targetitem):\n",
    "    for i in range(len(a)):\n",
    "        if(a[i]==targetitem):\n",
    "            j=0;\n",
    "            while(j!=i+1):\n",
    "                print('!',end=\" \");\n",
    "                j=j+1;\n",
    "                \n",
    "a=[1,2,3,1,2,3,2,3];\n",
    "linearexample(a,1);"
   ]
  },
  {
   "cell_type": "code",
   "execution_count": 29,
   "metadata": {},
   "outputs": [
    {
     "name": "stdout",
     "output_type": "stream",
     "text": [
      "15\n",
      "60\n"
     ]
    }
   ],
   "source": [
    "def multiply(a):\n",
    "    sum=0;\n",
    "    for i in range(len(a)):\n",
    "         if a[i]%3==0 and a[i]%5==0:\n",
    "            sum=sum+a[i];\n",
    "            print(sum);\n",
    "a=[15,12,4,55,45,20];\n",
    "multiply(a);\n",
    "    "
   ]
  },
  {
   "cell_type": "code",
   "execution_count": null,
   "metadata": {},
   "outputs": [],
   "source": [
    "def numbertolstconversion(n):\n",
    "    lst=[];\n",
    "    while(n!=0):\n",
    "        r=n%10;\n",
    "        lst.append(r);\n",
    "        n=n//10;\n",
    "    lst.reverse()\n",
    "    return(r)\n",
    "        \n",
    "n=int(input(\"enter the number\"));\n",
    "print(\"numbertolstconversion\");"
   ]
  },
  {
   "cell_type": "code",
   "execution_count": null,
   "metadata": {},
   "outputs": [],
   "source": []
  },
  {
   "cell_type": "code",
   "execution_count": null,
   "metadata": {},
   "outputs": [],
   "source": []
  }
 ],
 "metadata": {
  "kernelspec": {
   "display_name": "Python 3",
   "language": "python",
   "name": "python3"
  },
  "language_info": {
   "codemirror_mode": {
    "name": "ipython",
    "version": 3
   },
   "file_extension": ".py",
   "mimetype": "text/x-python",
   "name": "python",
   "nbconvert_exporter": "python",
   "pygments_lexer": "ipython3",
   "version": "3.7.3"
  }
 },
 "nbformat": 4,
 "nbformat_minor": 2
}
